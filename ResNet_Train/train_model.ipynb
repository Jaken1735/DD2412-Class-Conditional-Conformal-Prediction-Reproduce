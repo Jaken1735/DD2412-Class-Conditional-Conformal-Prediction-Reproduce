{
  "nbformat": 4,
  "nbformat_minor": 0,
  "metadata": {
    "colab": {
      "provenance": []
    },
    "kernelspec": {
      "name": "python3",
      "display_name": "Python 3"
    },
    "language_info": {
      "name": "python"
    }
  },
  "cells": [
    {
      "cell_type": "code",
      "source": [
        "import time\n",
        "import copy\n",
        "import torch\n",
        "import torchvision.transforms as transforms\n",
        "import torchvision.datasets as datasets\n",
        "from torchvision.models import resnet50\n",
        "from torch.utils.data import random_split, ConcatDataset, DataLoader\n",
        "import torch.optim as optim\n",
        "import torch.nn as nn\n",
        "import os\n",
        "import numpy as np\n",
        "import matplotlib.pyplot as plt"
      ],
      "metadata": {
        "id": "JIqjAOEGZaql"
      },
      "execution_count": null,
      "outputs": []
    },
    {
      "cell_type": "code",
      "source": [
        "def get_dataloaders(batch_size=128, num_workers=2, split=0.5):\n",
        "    # Load CIFAR-100 dataset\n",
        "    initial_transforms = transforms.ToTensor()\n",
        "    train_dataset = datasets.CIFAR100(root=\"./data\", train=True, download=True, transform=initial_transforms)\n",
        "    val_dataset = datasets.CIFAR100(root=\"./data\", train=False, download=True, transform=initial_transforms)\n",
        "\n",
        "    # Combine train and test datasets\n",
        "    full_dataset = ConcatDataset([train_dataset, val_dataset])\n",
        "\n",
        "    # Split into new train and val sets\n",
        "    train_size = int((1 - split) * len(full_dataset))\n",
        "    val_size = len(full_dataset) - train_size\n",
        "    train_set, val_set = random_split(full_dataset, [train_size, val_size])\n",
        "\n",
        "    # Data transformations for training and validation\n",
        "    mean = [0.485, 0.456, 0.406]\n",
        "    std = [0.229, 0.224, 0.225]\n",
        "\n",
        "    # Define transforms with the calculated mean and std\n",
        "    train_transforms = transforms.Compose([\n",
        "        transforms.RandomResizedCrop(224),\n",
        "        transforms.RandomHorizontalFlip(),\n",
        "        transforms.ToTensor(),\n",
        "        transforms.Normalize(mean=mean, std=std),\n",
        "    ])\n",
        "\n",
        "    val_transforms = transforms.Compose([\n",
        "        transforms.Resize(256),\n",
        "        transforms.CenterCrop(224),\n",
        "        transforms.ToTensor(),\n",
        "        transforms.Normalize(mean=mean, std=std),\n",
        "    ])\n",
        "\n",
        "    # Apply transforms to the respective sets\n",
        "    train_set.dataset.transform = train_transforms\n",
        "    val_set.dataset.transform = val_transforms\n",
        "\n",
        "    # Create dataloaders\n",
        "    train_loader = DataLoader(train_set, batch_size=batch_size, shuffle=True, num_workers=num_workers)\n",
        "    val_loader = DataLoader(val_set, batch_size=batch_size, shuffle=False, num_workers=num_workers)\n",
        "\n",
        "    # Create DataLoaders\n",
        "    dataloaders = {\n",
        "        'train': train_loader,\n",
        "        'val': val_loader\n",
        "    }\n",
        "\n",
        "    return dataloaders"
      ],
      "metadata": {
        "id": "G6-0IAX2ZeGN"
      },
      "execution_count": null,
      "outputs": []
    },
    {
      "cell_type": "code",
      "source": [
        "def train_model(model, dataloaders, criterion, optimizer, num_epochs, device):\n",
        "    since = time.time()\n",
        "\n",
        "    best_model_wts = copy.deepcopy(model.state_dict())\n",
        "    best_acc = 0.0\n",
        "\n",
        "    for epoch in range(num_epochs):\n",
        "        print(f'Epoch {epoch + 1}/{num_epochs}')\n",
        "        print('-' * 10)\n",
        "\n",
        "        for phase in ['train', 'val']:\n",
        "            if phase == 'train':\n",
        "                model.train()\n",
        "            else:\n",
        "                model.eval()\n",
        "\n",
        "            running_loss = 0.0\n",
        "            running_corrects = 0\n",
        "\n",
        "            for inputs, labels in dataloaders[phase]:\n",
        "                inputs = inputs.to(device)\n",
        "                labels = labels.to(device)\n",
        "\n",
        "                optimizer.zero_grad()\n",
        "\n",
        "                with torch.set_grad_enabled(phase == 'train'):\n",
        "                    outputs = model(inputs)\n",
        "                    loss = criterion(outputs, labels)\n",
        "                    _, preds = torch.max(outputs, 1)\n",
        "\n",
        "                    if phase == 'train':\n",
        "                        loss.backward()\n",
        "                        optimizer.step()\n",
        "\n",
        "                running_loss += loss.item() * inputs.size(0)\n",
        "                running_corrects += torch.sum(preds == labels.data)\n",
        "\n",
        "            epoch_loss = running_loss / len(dataloaders[phase].dataset)\n",
        "            epoch_acc = running_corrects.double() / len(dataloaders[phase].dataset)\n",
        "\n",
        "            print(f'{phase} Loss: {epoch_loss:.4f} Acc: {epoch_acc:.4f}')\n",
        "\n",
        "            if phase == 'val' and epoch_acc > best_acc:\n",
        "                best_acc = epoch_acc\n",
        "                best_model_wts = copy.deepcopy(model.state_dict())\n",
        "\n",
        "        print()\n",
        "\n",
        "    time_elapsed = time.time() - since\n",
        "    print(f'Training complete in {time_elapsed // 60:.0f}m {time_elapsed % 60:.0f}s')\n",
        "    print(f'Best val Acc: {best_acc:.4f}')\n",
        "\n",
        "    model.load_state_dict(best_model_wts)\n",
        "    return model"
      ],
      "metadata": {
        "id": "9Z7APDO4ZhXt"
      },
      "execution_count": null,
      "outputs": []
    },
    {
      "cell_type": "code",
      "source": [
        "def save_softmax_scores(model, dataloader, device, output_path):\n",
        "    model.eval()\n",
        "    softmax = nn.Softmax(dim=1)\n",
        "    all_scores = []\n",
        "    all_labels = []\n",
        "\n",
        "    with torch.no_grad():\n",
        "        for inputs, labels in dataloader:\n",
        "            inputs = inputs.to(device)\n",
        "            outputs = model(inputs)\n",
        "            scores = softmax(outputs).cpu().numpy()\n",
        "            all_scores.append(scores)\n",
        "            all_labels.append(labels.numpy())\n",
        "\n",
        "    all_scores = np.concatenate(all_scores, axis=0)\n",
        "    all_labels = np.concatenate(all_labels, axis=0)\n",
        "\n",
        "    np.save(output_path + 'scores.npy', all_scores)\n",
        "    np.save(output_path + 'labels.npy', all_labels)\n",
        "    print(f\"Softmax scores and labels saved to {output_path}scores.npy and {output_path}labels.npy\")\n",
        "    # print number of scores and labels\n",
        "    print(f\"Number of scores: {all_scores.shape}\")\n",
        "    print(f\"Number of labels: {all_labels.shape}\")"
      ],
      "metadata": {
        "id": "5ix_9n8IbTpA"
      },
      "execution_count": null,
      "outputs": []
    },
    {
      "cell_type": "code",
      "source": [
        "def show_img(img, title=\"\"):\n",
        "    img = img.permute(1, 2, 0).numpy()\n",
        "    img = (img - img.min()) / (img.max() - img.min())\n",
        "    plt.imshow(img)\n",
        "    plt.title(title)\n",
        "    plt.axis('off')\n",
        "    plt.show()"
      ],
      "metadata": {
        "id": "e4JkG0s9bZiL"
      },
      "execution_count": null,
      "outputs": []
    },
    {
      "cell_type": "code",
      "source": [
        "num_classes = 100\n",
        "batch_size = 128\n",
        "lr = 0.0001\n",
        "num_epochs = 30\n",
        "device = 'cuda' if torch.cuda.is_available() else 'cpu'\n",
        "print(f\"Using device: {device}\")\n",
        "num_workers = 4\n",
        "model_filename = 'best_cifar100_model'\n",
        "output_path = './results/'"
      ],
      "metadata": {
        "colab": {
          "base_uri": "https://localhost:8080/"
        },
        "id": "COOPa2HQZkvd",
        "outputId": "e4332c63-3cd4-4148-a288-b9a06e73281d"
      },
      "execution_count": null,
      "outputs": [
        {
          "output_type": "stream",
          "name": "stdout",
          "text": [
            "Using device: cuda\n"
          ]
        }
      ]
    },
    {
      "cell_type": "code",
      "source": [
        "dataloaders = get_dataloaders()"
      ],
      "metadata": {
        "colab": {
          "base_uri": "https://localhost:8080/"
        },
        "id": "5LvlslyBZtc5",
        "outputId": "f9998701-f32d-4b48-d506-d686ee7e98b4"
      },
      "execution_count": null,
      "outputs": [
        {
          "output_type": "stream",
          "name": "stdout",
          "text": [
            "Files already downloaded and verified\n",
            "Files already downloaded and verified\n"
          ]
        }
      ]
    },
    {
      "cell_type": "code",
      "source": [
        "model = resnet50(weights=\"IMAGENET1K_V2\")\n",
        "model.fc = nn.Linear(model.fc.in_features, num_classes)\n",
        "model = model.to(device)"
      ],
      "metadata": {
        "id": "9yJrQIdoZxxE"
      },
      "execution_count": null,
      "outputs": []
    },
    {
      "cell_type": "code",
      "source": [
        "criterion = nn.CrossEntropyLoss()\n",
        "optimizer = optim.Adam(model.parameters(), lr=lr)"
      ],
      "metadata": {
        "id": "mwfZX03YZ_2C"
      },
      "execution_count": null,
      "outputs": []
    },
    {
      "cell_type": "code",
      "source": [
        "model = train_model(model, dataloaders, criterion, optimizer, num_epochs, device)"
      ],
      "metadata": {
        "colab": {
          "base_uri": "https://localhost:8080/"
        },
        "id": "ByzsbkmGaJ6h",
        "outputId": "08ddf532-3007-4a96-ce1e-4029d2164a19"
      },
      "execution_count": null,
      "outputs": [
        {
          "output_type": "stream",
          "name": "stdout",
          "text": [
            "Epoch 1/30\n",
            "----------\n",
            "train Loss: 3.8491 Acc: 0.1542\n",
            "val Loss: 2.7306 Acc: 0.3390\n",
            "\n",
            "Epoch 2/30\n",
            "----------\n",
            "train Loss: 2.1271 Acc: 0.4573\n",
            "val Loss: 1.9160 Acc: 0.4876\n",
            "\n",
            "Epoch 3/30\n",
            "----------\n",
            "train Loss: 1.3544 Acc: 0.6260\n",
            "val Loss: 1.7136 Acc: 0.5391\n",
            "\n",
            "Epoch 4/30\n",
            "----------\n",
            "train Loss: 0.8947 Acc: 0.7564\n",
            "val Loss: 1.7264 Acc: 0.5504\n",
            "\n",
            "Epoch 5/30\n",
            "----------\n",
            "train Loss: 0.5940 Acc: 0.8438\n",
            "val Loss: 1.7240 Acc: 0.5637\n",
            "\n",
            "Epoch 6/30\n",
            "----------\n",
            "train Loss: 0.3896 Acc: 0.9029\n",
            "val Loss: 1.7224 Acc: 0.5736\n",
            "\n",
            "Epoch 7/30\n",
            "----------\n",
            "train Loss: 0.2532 Acc: 0.9419\n",
            "val Loss: 1.7557 Acc: 0.5801\n",
            "\n",
            "Epoch 8/30\n",
            "----------\n",
            "train Loss: 0.1775 Acc: 0.9610\n",
            "val Loss: 1.8109 Acc: 0.5828\n",
            "\n",
            "Epoch 9/30\n",
            "----------\n",
            "train Loss: 0.1281 Acc: 0.9738\n",
            "val Loss: 1.8987 Acc: 0.5816\n",
            "\n",
            "Epoch 10/30\n",
            "----------\n",
            "train Loss: 0.1135 Acc: 0.9754\n",
            "val Loss: 1.9290 Acc: 0.5800\n",
            "\n",
            "Epoch 11/30\n",
            "----------\n",
            "train Loss: 0.0983 Acc: 0.9789\n",
            "val Loss: 1.9665 Acc: 0.5835\n",
            "\n",
            "Epoch 12/30\n",
            "----------\n",
            "train Loss: 0.0886 Acc: 0.9801\n",
            "val Loss: 2.0402 Acc: 0.5802\n",
            "\n",
            "Epoch 13/30\n",
            "----------\n",
            "train Loss: 0.0819 Acc: 0.9812\n",
            "val Loss: 2.0272 Acc: 0.5843\n",
            "\n",
            "Epoch 14/30\n",
            "----------\n",
            "train Loss: 0.0719 Acc: 0.9831\n",
            "val Loss: 2.0522 Acc: 0.5845\n",
            "\n",
            "Epoch 15/30\n",
            "----------\n",
            "train Loss: 0.0691 Acc: 0.9832\n",
            "val Loss: 2.1017 Acc: 0.5873\n",
            "\n",
            "Epoch 16/30\n",
            "----------\n",
            "train Loss: 0.0674 Acc: 0.9836\n",
            "val Loss: 2.2135 Acc: 0.5838\n",
            "\n",
            "Epoch 17/30\n",
            "----------\n",
            "train Loss: 0.0650 Acc: 0.9836\n",
            "val Loss: 2.1814 Acc: 0.5837\n",
            "\n",
            "Epoch 18/30\n",
            "----------\n",
            "train Loss: 0.0644 Acc: 0.9832\n",
            "val Loss: 2.1741 Acc: 0.5844\n",
            "\n",
            "Epoch 19/30\n",
            "----------\n",
            "train Loss: 0.0600 Acc: 0.9838\n",
            "val Loss: 2.3352 Acc: 0.5823\n",
            "\n",
            "Epoch 20/30\n",
            "----------\n",
            "train Loss: 0.0559 Acc: 0.9855\n",
            "val Loss: 2.2545 Acc: 0.5864\n",
            "\n",
            "Epoch 21/30\n",
            "----------\n",
            "train Loss: 0.0531 Acc: 0.9860\n",
            "val Loss: 2.4322 Acc: 0.5780\n",
            "\n",
            "Epoch 22/30\n",
            "----------\n",
            "train Loss: 0.0540 Acc: 0.9845\n",
            "val Loss: 2.4839 Acc: 0.5834\n",
            "\n",
            "Epoch 23/30\n",
            "----------\n",
            "train Loss: 0.0498 Acc: 0.9863\n",
            "val Loss: 2.3209 Acc: 0.5879\n",
            "\n",
            "Epoch 24/30\n",
            "----------\n",
            "train Loss: 0.0493 Acc: 0.9861\n",
            "val Loss: 2.3798 Acc: 0.5898\n",
            "\n",
            "Epoch 25/30\n",
            "----------\n",
            "train Loss: 0.0429 Acc: 0.9886\n",
            "val Loss: 2.3210 Acc: 0.5893\n",
            "\n",
            "Epoch 26/30\n",
            "----------\n",
            "train Loss: 0.0438 Acc: 0.9881\n",
            "val Loss: 2.3121 Acc: 0.5938\n",
            "\n",
            "Epoch 27/30\n",
            "----------\n",
            "train Loss: 0.0462 Acc: 0.9877\n",
            "val Loss: 2.3298 Acc: 0.5887\n",
            "\n",
            "Epoch 28/30\n",
            "----------\n",
            "train Loss: 0.0359 Acc: 0.9894\n",
            "val Loss: 2.4139 Acc: 0.5918\n",
            "\n",
            "Epoch 29/30\n",
            "----------\n",
            "train Loss: 0.0310 Acc: 0.9911\n",
            "val Loss: 2.3242 Acc: 0.5956\n",
            "\n",
            "Epoch 30/30\n",
            "----------\n",
            "train Loss: 0.0332 Acc: 0.9912\n",
            "val Loss: 2.4309 Acc: 0.5931\n",
            "\n",
            "Training complete in 11m 36s\n",
            "Best val Acc: 0.5956\n"
          ]
        }
      ]
    },
    {
      "cell_type": "code",
      "source": [
        "os.makedirs(output_path, exist_ok=True)\n",
        "torch.save(model.state_dict(), f'{output_path}{model_filename}.pth')\n",
        "print(f'Model saved to {output_path}{model_filename}.pth')\n",
        "\n",
        "# Save softmax scores for validation set\n",
        "save_softmax_scores(model, dataloaders['val'], device, output_path)"
      ],
      "metadata": {
        "id": "TUcFVqUUbmqG",
        "colab": {
          "base_uri": "https://localhost:8080/"
        },
        "outputId": "a7e9a081-1f3e-4d58-8d53-186b5a1fcca8"
      },
      "execution_count": null,
      "outputs": [
        {
          "output_type": "stream",
          "name": "stdout",
          "text": [
            "Model saved to ./results/best_cifar100_model.pth\n",
            "Softmax scores and labels saved to ./results_scores.npy and ./results_labels.npy\n"
          ]
        }
      ]
    },
    {
      "cell_type": "code",
      "source": [
        "# Visualize a few validation images with predictions\n",
        "model.eval()\n",
        "with torch.no_grad():\n",
        "    for inputs, labels in dataloaders['val']:\n",
        "        inputs = inputs.to(device)\n",
        "        outputs = model(inputs)\n",
        "        _, preds = torch.max(outputs, 1)\n",
        "        for i in range(5):  # Show 5 images\n",
        "            show_img(inputs[i].cpu(), title=f\"Label: {labels[i]} | Pred: {preds[i].item()}\")\n",
        "        break"
      ],
      "metadata": {
        "id": "pkYTa7uobqIR",
        "colab": {
          "base_uri": "https://localhost:8080/",
          "height": 1000
        },
        "outputId": "0773e85f-56a0-41da-e59b-2d81c7933070"
      },
      "execution_count": null,
      "outputs": [
        {
          "output_type": "display_data",
          "data": {
            "text/plain": [
              "<Figure size 640x480 with 1 Axes>"
            ],
            "image/png": "[encoded data removed]"
          },
          "metadata": {}
        },
        {
          "output_type": "display_data",
          "data": {
            "text/plain": [
              "<Figure size 640x480 with 1 Axes>"
            ],
            "image/png": "[encoded data removed]"
          },
          "metadata": {}
        },
        {
          "output_type": "display_data",
          "data": {
            "text/plain": [
              "<Figure size 640x480 with 1 Axes>"
            ],
            "image/png": "[encoded data removed]"
          },
          "metadata": {}
        },
        {
          "output_type": "display_data",
          "data": {
            "text/plain": [
              "<Figure size 640x480 with 1 Axes>"
            ],
            "image/png": "[encoded data removed]"
          },
          "metadata": {}
        },
        {
          "output_type": "display_data",
          "data": {
            "text/plain": [
              "<Figure size 640x480 with 1 Axes>"
            ],
            "image/png": "[encoded data removed]"
          },
          "metadata": {}
        }
      ]
    }
  ]
}